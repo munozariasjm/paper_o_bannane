{
 "cells": [
  {
   "cell_type": "code",
   "execution_count": 10,
   "metadata": {},
   "outputs": [],
   "source": [
    "import numpy as np\n",
    "import glob\n",
    "import pandas as pd"
   ]
  },
  {
   "cell_type": "markdown",
   "metadata": {},
   "source": [
    "This supposes you have run the code in the scripts/slurm section with the following command (remember to replace the path):\n",
    "```bash\n",
    "sbatch bannane/scripts/slurm/slurm_run.slurm\n",
    "```"
   ]
  },
  {
   "cell_type": "code",
   "execution_count": 11,
   "metadata": {},
   "outputs": [
    {
     "data": {
      "text/plain": [
       "['../../../LABS/REFINEMENT/valid_data_all_0_05.csv',\n",
       " '../../../LABS/REFINEMENT/valid_data_all_0_1.csv',\n",
       " '../../../LABS/REFINEMENT/valid_data_all_0_2.csv',\n",
       " '../../../LABS/REFINEMENT/valid_data_all_0_3.csv',\n",
       " '../../../LABS/REFINEMENT/valid_data_all_0_4.csv',\n",
       " '../../../LABS/REFINEMENT/valid_data_all_0_5.csv',\n",
       " '../../../LABS/REFINEMENT/valid_data_all_0_6.csv',\n",
       " '../../../LABS/REFINEMENT/valid_data_all_0_7.csv',\n",
       " '../../../LABS/REFINEMENT/valid_data_all_0_8.csv',\n",
       " '../../../LABS/REFINEMENT/valid_data_all_0_9.csv',\n",
       " '../../../LABS/REFINEMENT/valid_data_all_0_99.csv']"
      ]
     },
     "execution_count": 11,
     "metadata": {},
     "output_type": "execute_result"
    }
   ],
   "source": [
    "slurm_output_path = \"../../../LABS/REFINEMENT\"\n",
    "files = glob.glob(slurm_output_path + \"/*\")\n",
    "extrapolation_predictions = glob.glob(slurm_output_path + \"/valid*.csv\")\n",
    "sorted(extrapolation_predictions)"
   ]
  },
  {
   "cell_type": "code",
   "execution_count": 12,
   "metadata": {},
   "outputs": [],
   "source": [
    "pred_dfs = []\n",
    "for file in extrapolation_predictions:\n",
    "    num_frac = file.split(\"all_\")[-1].split(\".csv\")[0].replace(\"_\", \".\")\n",
    "    num_frac = float(num_frac)\n",
    "    df = pd.read_csv(file)\n",
    "    df[\"num_frac\"] = [num_frac] * len(df)\n",
    "    pred_dfs.append(df)\n",
    "\n",
    "all_extrapolation_predictions = pd.concat(pred_dfs)"
   ]
  },
  {
   "cell_type": "code",
   "execution_count": null,
   "metadata": {},
   "outputs": [],
   "source": [
    "def get_metrics(num_frac):\n",
    "    metrics = {\n",
    "        \"N\": [],\n",
    "        \"len\": [],\n",
    "        \"emax\": [],\n",
    "        \"rmse_eb\": [],\n",
    "        \"rmse_rch\": [],\n",
    "        \"mape_eb\": [],\n",
    "        \"mape_rch\": [],\n",
    "        \"unc_eb\": [],\n",
    "        \"unc_rch\": []\n",
    "    }\n",
    "    all_n_df = all_extrapolation_predictions[all_extrapolation_predictions[\"num_frac\"] == num_frac]\n",
    "    print(all_n_df.columns)\n",
    "    emaxs = all_n_df[\"emax\"].unique()\n",
    "    for emax in emaxs:\n",
    "        emax_df = all_n_df[all_n_df[\"emax\"] == emax]\n",
    "        for n in emax_df[\"N\"].unique():\n",
    "            ndf = emax_df[emax_df[\"N\"] == n]\n",
    "            metrics[\"N\"].append(n)\n",
    "            metrics[\"emax\"].append(emax)\n",
    "            metrics[\"len\"].append(len(ndf))\n",
    "            preds_eb = ndf[\"eb_pred\"].values\n",
    "            preds_rch = ndf[\"r_pred\"].values\n",
    "            true_eb = ndf[\"Energy ket\"].values\n",
    "            true_rch = ndf[\"Rch\"].values\n",
    "            metrics[\"rmse_eb\"].append(np.sqrt(np.mean((preds_eb - true_eb) ** 2)))\n",
    "            metrics[\"rmse_rch\"].append(np.sqrt(np.mean((preds_rch - true_rch) ** 2)))\n",
    "            metrics[\"mape_eb\"].append(np.mean(np.abs((preds_eb - true_eb) / true_eb)) * 100)\n",
    "            metrics[\"mape_rch\"].append(np.mean(np.abs((preds_rch - true_rch) / true_rch)) * 100)\n",
    "            # Compute the uncertainty on the error by bootstrapping with the uncertainty\n",
    "            # in the predictions\n",
    "            n_samples = 1000\n",
    "            eb_unc = []\n",
    "            rch_unc = []\n",
    "            for i in range(n_samples):\n",
    "                idx = np.random.choice(len(ndf), len(ndf), replace=True)\n",
    "                eb_unc.append(np.std(ndf[\"eb_pred\"].values[idx]))\n",
    "                rch_unc.append(np.std(ndf[\"r_pred\"].values[idx]))\n",
    "            metrics[\"unc_eb\"].append(np.mean(eb_unc))\n",
    "            metrics[\"unc_rch\"].append(np.mean(rch_unc))\n",
    "\n",
    "\n",
    "    return pd.DataFrame(metrics)\n"
   ]
  },
  {
   "cell_type": "code",
   "execution_count": 44,
   "metadata": {},
   "outputs": [
    {
     "data": {
      "text/plain": [
       "4953.333333333333"
      ]
     },
     "execution_count": 44,
     "metadata": {},
     "output_type": "execute_result"
    }
   ],
   "source": [
    "TOTAL_SAMPLES = len(pd.read_csv(\"../../../LABS/REFINEMENT/valid_data_all_0_1.csv\"))\n",
    "TOTAL_SAMPLES / 0.9"
   ]
  },
  {
   "cell_type": "code",
   "execution_count": 34,
   "metadata": {},
   "outputs": [],
   "source": [
    "def average_per_perc(metrics_df):\n",
    "    avg_eb = metrics_df[\"mape_eb\"].mean()\n",
    "    avg_rch = metrics_df[\"mape_rch\"].mean()\n",
    "    return avg_eb, avg_rch"
   ]
  },
  {
   "cell_type": "code",
   "execution_count": 35,
   "metadata": {},
   "outputs": [
    {
     "name": "stdout",
     "output_type": "stream",
     "text": [
      "Index(['Sample', 'emax', 'Ct1S0pp', 'Ct1S0np', 'Ct1S0nn', 'Ct3S1', 'C1S0',\n",
      "       'C3P0', 'C1P1', 'C3P1', 'C3S1', 'CE1', 'C3P2', 'c1', 'c2', 'c3', 'c4',\n",
      "       'cD', 'cE', 'Nucl bra', 'J bra', 'P bra', 'n bra', 'Energy bra',\n",
      "       'Nucl ket', 'J ket', 'P ket', 'n ket', 'Energy ket', 'Zero', 'One',\n",
      "       'Two', 'Rch', 'Z', 'N', 'eb_pred', 'r_pred', 'eb_unc', 'r_unc',\n",
      "       'num_frac'],\n",
      "      dtype='object')\n"
     ]
    },
    {
     "data": {
      "text/plain": [
       "(1.6511752356327905, 1.238957408997295)"
      ]
     },
     "execution_count": 35,
     "metadata": {},
     "output_type": "execute_result"
    }
   ],
   "source": [
    "average_per_perc(get_metrics(0.1))"
   ]
  },
  {
   "cell_type": "code",
   "execution_count": 36,
   "metadata": {},
   "outputs": [
    {
     "name": "stdout",
     "output_type": "stream",
     "text": [
      "Index(['Sample', 'emax', 'Ct1S0pp', 'Ct1S0np', 'Ct1S0nn', 'Ct3S1', 'C1S0',\n",
      "       'C3P0', 'C1P1', 'C3P1', 'C3S1', 'CE1', 'C3P2', 'c1', 'c2', 'c3', 'c4',\n",
      "       'cD', 'cE', 'Nucl bra', 'J bra', 'P bra', 'n bra', 'Energy bra',\n",
      "       'Nucl ket', 'J ket', 'P ket', 'n ket', 'Energy ket', 'Zero', 'One',\n",
      "       'Two', 'Rch', 'Z', 'N', 'eb_pred', 'r_pred', 'eb_unc', 'r_unc',\n",
      "       'num_frac'],\n",
      "      dtype='object')\n",
      "0.05 (2.3775298681580304, 1.6734448172545664)\n",
      "Index(['Sample', 'emax', 'Ct1S0pp', 'Ct1S0np', 'Ct1S0nn', 'Ct3S1', 'C1S0',\n",
      "       'C3P0', 'C1P1', 'C3P1', 'C3S1', 'CE1', 'C3P2', 'c1', 'c2', 'c3', 'c4',\n",
      "       'cD', 'cE', 'Nucl bra', 'J bra', 'P bra', 'n bra', 'Energy bra',\n",
      "       'Nucl ket', 'J ket', 'P ket', 'n ket', 'Energy ket', 'Zero', 'One',\n",
      "       'Two', 'Rch', 'Z', 'N', 'eb_pred', 'r_pred', 'eb_unc', 'r_unc',\n",
      "       'num_frac'],\n",
      "      dtype='object')\n",
      "0.1 (1.6511752356327905, 1.238957408997295)\n",
      "Index(['Sample', 'emax', 'Ct1S0pp', 'Ct1S0np', 'Ct1S0nn', 'Ct3S1', 'C1S0',\n",
      "       'C3P0', 'C1P1', 'C3P1', 'C3S1', 'CE1', 'C3P2', 'c1', 'c2', 'c3', 'c4',\n",
      "       'cD', 'cE', 'Nucl bra', 'J bra', 'P bra', 'n bra', 'Energy bra',\n",
      "       'Nucl ket', 'J ket', 'P ket', 'n ket', 'Energy ket', 'Zero', 'One',\n",
      "       'Two', 'Rch', 'Z', 'N', 'eb_pred', 'r_pred', 'eb_unc', 'r_unc',\n",
      "       'num_frac'],\n",
      "      dtype='object')\n",
      "0.2 (1.3246994015737636, 0.81763242035974)\n",
      "Index(['Sample', 'emax', 'Ct1S0pp', 'Ct1S0np', 'Ct1S0nn', 'Ct3S1', 'C1S0',\n",
      "       'C3P0', 'C1P1', 'C3P1', 'C3S1', 'CE1', 'C3P2', 'c1', 'c2', 'c3', 'c4',\n",
      "       'cD', 'cE', 'Nucl bra', 'J bra', 'P bra', 'n bra', 'Energy bra',\n",
      "       'Nucl ket', 'J ket', 'P ket', 'n ket', 'Energy ket', 'Zero', 'One',\n",
      "       'Two', 'Rch', 'Z', 'N', 'eb_pred', 'r_pred', 'eb_unc', 'r_unc',\n",
      "       'num_frac'],\n",
      "      dtype='object')\n",
      "0.3 (1.5153074045142778, 0.5566806913966131)\n",
      "Index(['Sample', 'emax', 'Ct1S0pp', 'Ct1S0np', 'Ct1S0nn', 'Ct3S1', 'C1S0',\n",
      "       'C3P0', 'C1P1', 'C3P1', 'C3S1', 'CE1', 'C3P2', 'c1', 'c2', 'c3', 'c4',\n",
      "       'cD', 'cE', 'Nucl bra', 'J bra', 'P bra', 'n bra', 'Energy bra',\n",
      "       'Nucl ket', 'J ket', 'P ket', 'n ket', 'Energy ket', 'Zero', 'One',\n",
      "       'Two', 'Rch', 'Z', 'N', 'eb_pred', 'r_pred', 'eb_unc', 'r_unc',\n",
      "       'num_frac'],\n",
      "      dtype='object')\n",
      "0.4 (1.1306195735419247, 0.498915594587367)\n",
      "Index(['Sample', 'emax', 'Ct1S0pp', 'Ct1S0np', 'Ct1S0nn', 'Ct3S1', 'C1S0',\n",
      "       'C3P0', 'C1P1', 'C3P1', 'C3S1', 'CE1', 'C3P2', 'c1', 'c2', 'c3', 'c4',\n",
      "       'cD', 'cE', 'Nucl bra', 'J bra', 'P bra', 'n bra', 'Energy bra',\n",
      "       'Nucl ket', 'J ket', 'P ket', 'n ket', 'Energy ket', 'Zero', 'One',\n",
      "       'Two', 'Rch', 'Z', 'N', 'eb_pred', 'r_pred', 'eb_unc', 'r_unc',\n",
      "       'num_frac'],\n",
      "      dtype='object')\n",
      "0.5 (1.1623649968643837, 0.36196123565757576)\n",
      "Index(['Sample', 'emax', 'Ct1S0pp', 'Ct1S0np', 'Ct1S0nn', 'Ct3S1', 'C1S0',\n",
      "       'C3P0', 'C1P1', 'C3P1', 'C3S1', 'CE1', 'C3P2', 'c1', 'c2', 'c3', 'c4',\n",
      "       'cD', 'cE', 'Nucl bra', 'J bra', 'P bra', 'n bra', 'Energy bra',\n",
      "       'Nucl ket', 'J ket', 'P ket', 'n ket', 'Energy ket', 'Zero', 'One',\n",
      "       'Two', 'Rch', 'Z', 'N', 'eb_pred', 'r_pred', 'eb_unc', 'r_unc',\n",
      "       'num_frac'],\n",
      "      dtype='object')\n",
      "0.6 (2.192711350035976, 0.3079877158477489)\n",
      "Index(['Sample', 'emax', 'Ct1S0pp', 'Ct1S0np', 'Ct1S0nn', 'Ct3S1', 'C1S0',\n",
      "       'C3P0', 'C1P1', 'C3P1', 'C3S1', 'CE1', 'C3P2', 'c1', 'c2', 'c3', 'c4',\n",
      "       'cD', 'cE', 'Nucl bra', 'J bra', 'P bra', 'n bra', 'Energy bra',\n",
      "       'Nucl ket', 'J ket', 'P ket', 'n ket', 'Energy ket', 'Zero', 'One',\n",
      "       'Two', 'Rch', 'Z', 'N', 'eb_pred', 'r_pred', 'eb_unc', 'r_unc',\n",
      "       'num_frac'],\n",
      "      dtype='object')\n",
      "0.7 (0.6498226867153625, 0.32595748564804516)\n",
      "Index(['Sample', 'emax', 'Ct1S0pp', 'Ct1S0np', 'Ct1S0nn', 'Ct3S1', 'C1S0',\n",
      "       'C3P0', 'C1P1', 'C3P1', 'C3S1', 'CE1', 'C3P2', 'c1', 'c2', 'c3', 'c4',\n",
      "       'cD', 'cE', 'Nucl bra', 'J bra', 'P bra', 'n bra', 'Energy bra',\n",
      "       'Nucl ket', 'J ket', 'P ket', 'n ket', 'Energy ket', 'Zero', 'One',\n",
      "       'Two', 'Rch', 'Z', 'N', 'eb_pred', 'r_pred', 'eb_unc', 'r_unc',\n",
      "       'num_frac'],\n",
      "      dtype='object')\n",
      "0.8 (0.7343172547154828, 0.38831358959958945)\n",
      "Index(['Sample', 'emax', 'Ct1S0pp', 'Ct1S0np', 'Ct1S0nn', 'Ct3S1', 'C1S0',\n",
      "       'C3P0', 'C1P1', 'C3P1', 'C3S1', 'CE1', 'C3P2', 'c1', 'c2', 'c3', 'c4',\n",
      "       'cD', 'cE', 'Nucl bra', 'J bra', 'P bra', 'n bra', 'Energy bra',\n",
      "       'Nucl ket', 'J ket', 'P ket', 'n ket', 'Energy ket', 'Zero', 'One',\n",
      "       'Two', 'Rch', 'Z', 'N', 'eb_pred', 'r_pred', 'eb_unc', 'r_unc',\n",
      "       'num_frac'],\n",
      "      dtype='object')\n",
      "0.9 (0.5706527989899914, 0.2667218533507979)\n",
      "Index(['Sample', 'emax', 'Ct1S0pp', 'Ct1S0np', 'Ct1S0nn', 'Ct3S1', 'C1S0',\n",
      "       'C3P0', 'C1P1', 'C3P1', 'C3S1', 'CE1', 'C3P2', 'c1', 'c2', 'c3', 'c4',\n",
      "       'cD', 'cE', 'Nucl bra', 'J bra', 'P bra', 'n bra', 'Energy bra',\n",
      "       'Nucl ket', 'J ket', 'P ket', 'n ket', 'Energy ket', 'Zero', 'One',\n",
      "       'Two', 'Rch', 'Z', 'N', 'eb_pred', 'r_pred', 'eb_unc', 'r_unc',\n",
      "       'num_frac'],\n",
      "      dtype='object')\n",
      "0.99 (0.7428923979124631, 0.339336408328557)\n"
     ]
    }
   ],
   "source": [
    "convergence_df = {\"num_frac\": [], \"mape_eb\": [], \"mape_rch\": []}\n",
    "for perc in sorted(all_extrapolation_predictions.num_frac.unique()):\n",
    "    perc_df = all_extrapolation_predictions[all_extrapolation_predictions[\"num_frac\"] == perc]\n",
    "    try:\n",
    "        metrics = get_metrics(perc)\n",
    "        print(perc, average_per_perc(metrics))\n",
    "        convergence_df[\"num_frac\"].append(perc)\n",
    "        convergence_df[\"mape_eb\"].append(average_per_perc(metrics)[0])\n",
    "        convergence_df[\"mape_rch\"].append(average_per_perc(metrics)[1])\n",
    "    except:\n",
    "        print(\"Failed for \", perc)\n",
    "        continue\n"
   ]
  },
  {
   "cell_type": "code",
   "execution_count": 37,
   "metadata": {},
   "outputs": [
    {
     "data": {
      "text/plain": [
       "[<matplotlib.lines.Line2D at 0x171e5ee90>]"
      ]
     },
     "execution_count": 37,
     "metadata": {},
     "output_type": "execute_result"
    },
    {
     "data": {
      "image/png": "[encoded data removed]",
      "text/plain": [
       "<Figure size 640x480 with 1 Axes>"
      ]
     },
     "metadata": {},
     "output_type": "display_data"
    }
   ],
   "source": [
    "# plot convergence\n",
    "import matplotlib.pyplot as plt\n",
    "import seaborn as sns\n",
    "sns.set()\n",
    "fig, ax = plt.subplots()\n",
    "ax.plot(convergence_df[\"num_frac\"], convergence_df[\"mape_rch\"], label=\"Energy ket\")"
   ]
  },
  {
   "cell_type": "code",
   "execution_count": 39,
   "metadata": {},
   "outputs": [
    {
     "data": {
      "text/html": [
       "<div>\n",
       "<style scoped>\n",
       "    .dataframe tbody tr th:only-of-type {\n",
       "        vertical-align: middle;\n",
       "    }\n",
       "\n",
       "    .dataframe tbody tr th {\n",
       "        vertical-align: top;\n",
       "    }\n",
       "\n",
       "    .dataframe thead th {\n",
       "        text-align: right;\n",
       "    }\n",
       "</style>\n",
       "<table border=\"1\" class=\"dataframe\">\n",
       "  <thead>\n",
       "    <tr style=\"text-align: right;\">\n",
       "      <th></th>\n",
       "      <th>num_frac</th>\n",
       "      <th>mape_eb</th>\n",
       "      <th>mape_rch</th>\n",
       "    </tr>\n",
       "  </thead>\n",
       "  <tbody>\n",
       "    <tr>\n",
       "      <th>0</th>\n",
       "      <td>0.05</td>\n",
       "      <td>2.377530</td>\n",
       "      <td>1.673445</td>\n",
       "    </tr>\n",
       "    <tr>\n",
       "      <th>1</th>\n",
       "      <td>0.10</td>\n",
       "      <td>1.651175</td>\n",
       "      <td>1.238957</td>\n",
       "    </tr>\n",
       "    <tr>\n",
       "      <th>2</th>\n",
       "      <td>0.20</td>\n",
       "      <td>1.324699</td>\n",
       "      <td>0.817632</td>\n",
       "    </tr>\n",
       "    <tr>\n",
       "      <th>3</th>\n",
       "      <td>0.30</td>\n",
       "      <td>1.515307</td>\n",
       "      <td>0.556681</td>\n",
       "    </tr>\n",
       "    <tr>\n",
       "      <th>4</th>\n",
       "      <td>0.40</td>\n",
       "      <td>1.130620</td>\n",
       "      <td>0.498916</td>\n",
       "    </tr>\n",
       "    <tr>\n",
       "      <th>5</th>\n",
       "      <td>0.50</td>\n",
       "      <td>1.162365</td>\n",
       "      <td>0.361961</td>\n",
       "    </tr>\n",
       "    <tr>\n",
       "      <th>6</th>\n",
       "      <td>0.60</td>\n",
       "      <td>2.192711</td>\n",
       "      <td>0.307988</td>\n",
       "    </tr>\n",
       "    <tr>\n",
       "      <th>7</th>\n",
       "      <td>0.70</td>\n",
       "      <td>0.649823</td>\n",
       "      <td>0.325957</td>\n",
       "    </tr>\n",
       "    <tr>\n",
       "      <th>8</th>\n",
       "      <td>0.80</td>\n",
       "      <td>0.734317</td>\n",
       "      <td>0.388314</td>\n",
       "    </tr>\n",
       "    <tr>\n",
       "      <th>9</th>\n",
       "      <td>0.90</td>\n",
       "      <td>0.570653</td>\n",
       "      <td>0.266722</td>\n",
       "    </tr>\n",
       "    <tr>\n",
       "      <th>10</th>\n",
       "      <td>0.99</td>\n",
       "      <td>0.742892</td>\n",
       "      <td>0.339336</td>\n",
       "    </tr>\n",
       "  </tbody>\n",
       "</table>\n",
       "</div>"
      ],
      "text/plain": [
       "    num_frac   mape_eb  mape_rch\n",
       "0       0.05  2.377530  1.673445\n",
       "1       0.10  1.651175  1.238957\n",
       "2       0.20  1.324699  0.817632\n",
       "3       0.30  1.515307  0.556681\n",
       "4       0.40  1.130620  0.498916\n",
       "5       0.50  1.162365  0.361961\n",
       "6       0.60  2.192711  0.307988\n",
       "7       0.70  0.649823  0.325957\n",
       "8       0.80  0.734317  0.388314\n",
       "9       0.90  0.570653  0.266722\n",
       "10      0.99  0.742892  0.339336"
      ]
     },
     "execution_count": 39,
     "metadata": {},
     "output_type": "execute_result"
    }
   ],
   "source": [
    "pd.DataFrame(convergence_df)"
   ]
  },
  {
   "cell_type": "code",
   "execution_count": null,
   "metadata": {},
   "outputs": [],
   "source": []
  }
 ],
 "metadata": {
  "kernelspec": {
   "display_name": "envBANNANE",
   "language": "python",
   "name": "python3"
  },
  "language_info": {
   "codemirror_mode": {
    "name": "ipython",
    "version": 3
   },
   "file_extension": ".py",
   "mimetype": "text/x-python",
   "name": "python",
   "nbconvert_exporter": "python",
   "pygments_lexer": "ipython3",
   "version": "3.11.11"
  }
 },
 "nbformat": 4,
 "nbformat_minor": 2
}
